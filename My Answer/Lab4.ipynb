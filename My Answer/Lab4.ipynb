{
  "nbformat": 4,
  "nbformat_minor": 0,
  "metadata": {
    "colab": {
      "name": "Untitled2.ipynb",
      "provenance": [],
      "collapsed_sections": []
    },
    "kernelspec": {
      "name": "python3",
      "display_name": "Python 3"
    },
    "language_info": {
      "name": "python"
    }
  },
  "cells": [
    {
      "cell_type": "code",
      "execution_count": 3,
      "metadata": {
        "colab": {
          "base_uri": "https://localhost:8080/",
          "height": 382
        },
        "id": "_MHxZB-sE2P9",
        "outputId": "f778dd8d-1127-4096-f779-c508a716284c"
      },
      "outputs": [
        {
          "output_type": "stream",
          "name": "stdout",
          "text": [
            " The best solution found:\n",
            " [2. 4. 7. 3. 0. 6. 1. 5.]\n",
            "\n",
            " Objective function:\n",
            " 0.0\n"
          ]
        },
        {
          "output_type": "display_data",
          "data": {
            "image/png": "[encoded data removed]",
            "text/plain": [
              "<Figure size 432x288 with 1 Axes>"
            ]
          },
          "metadata": {
            "needs_background": "light"
          }
        }
      ],
      "source": [
        "import numpy as np\n",
        "from geneticalgorithm import geneticalgorithm as ga\n",
        "\n",
        "def f(X):\n",
        "    c=0\n",
        "    for i in range(8):\n",
        "        h=1\n",
        "        for j in range(i,8):\n",
        "            if i==j:\n",
        "                continue\n",
        "            if X[i]==X[j]:\n",
        "                c+=1\n",
        "            elif abs(X[i]-X[j])==h:\n",
        "                c+=1\n",
        "            h+=1    \n",
        "\n",
        "    return c\n",
        "\n",
        "varbound=np.array([[0,7]]*8)\n",
        "\n",
        "model=ga(function=f,dimension=8,variable_type='int',variable_boundaries=varbound,function_timeout=15)\n",
        "\n",
        "model.run()\n"
      ]
    },
    {
      "cell_type": "code",
      "execution_count": null,
      "metadata": {
        "id": "GQ18Kd5F3uKe"
      },
      "outputs": [],
      "source": [
        ""
      ]
    }
  ]
}