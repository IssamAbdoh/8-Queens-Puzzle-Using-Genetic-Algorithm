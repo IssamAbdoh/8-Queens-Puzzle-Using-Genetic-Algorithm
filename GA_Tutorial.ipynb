{
  "nbformat": 4,
  "nbformat_minor": 0,
  "metadata": {
    "colab": {
      "name": "GA Tutorial.ipynb",
      "provenance": [],
      "collapsed_sections": []
    },
    "kernelspec": {
      "name": "python3",
      "display_name": "Python 3"
    },
    "language_info": {
      "name": "python"
    }
  },
  "cells": [
    {
      "cell_type": "code",
      "execution_count": 1,
      "metadata": {
        "colab": {
          "base_uri": "https://localhost:8080/"
        },
        "id": "ycenMDyLpKON",
        "outputId": "17684b4b-2521-45d2-a157-3c3ae695b2a0"
      },
      "outputs": [
        {
          "output_type": "stream",
          "name": "stdout",
          "text": [
            "Collecting geneticalgorithm\n",
            "  Downloading geneticalgorithm-1.0.2-py3-none-any.whl (16 kB)\n",
            "Requirement already satisfied: numpy in /usr/local/lib/python3.7/dist-packages (from geneticalgorithm) (1.19.5)\n",
            "Collecting func-timeout\n",
            "  Downloading func_timeout-4.3.5.tar.gz (44 kB)\n",
            "\u001b[K     |████████████████████████████████| 44 kB 1.1 MB/s \n",
            "\u001b[?25hBuilding wheels for collected packages: func-timeout\n",
            "  Building wheel for func-timeout (setup.py) ... \u001b[?25l\u001b[?25hdone\n",
            "  Created wheel for func-timeout: filename=func_timeout-4.3.5-py3-none-any.whl size=15095 sha256=fa2cc029043aa057c75371e01da7d78f438ce8e507b80247e306384e1a42d69e\n",
            "  Stored in directory: /root/.cache/pip/wheels/68/b5/a5/67c4364c354e141f5a1bd3ec568126f77877ab7554cf5af8cb\n",
            "Successfully built func-timeout\n",
            "Installing collected packages: func-timeout, geneticalgorithm\n",
            "Successfully installed func-timeout-4.3.5 geneticalgorithm-1.0.2\n"
          ]
        }
      ],
      "source": [
        "#https://pypi.org/project/geneticalgorithm/\n",
        "!pip install geneticalgorithm"
      ]
    },
    {
      "cell_type": "code",
      "source": [
        "# this is my objective function\n",
        "import numpy as np\n",
        "def objectivefunction(X):\n",
        "  # return np.sum(X)\n",
        "  return X[0]**2 + 2*X[1]- 10*X[2] "
      ],
      "metadata": {
        "id": "Rfd5ArnMpQip"
      },
      "execution_count": 19,
      "outputs": []
    },
    {
      "cell_type": "code",
      "source": [
        "#setup paramters of GA algorithm\n",
        "\n",
        "param = {'max_num_iteration': 5000,\\\n",
        "                   'population_size':100,\\\n",
        "                   'mutation_probability':0.1,\\\n",
        "                   'elit_ratio': 0.01,\\\n",
        "                   'crossover_probability': 0.5,\\\n",
        "                   'parents_portion': 0.3,\\\n",
        "                   'crossover_type':'uniform',\\\n",
        "                   'max_iteration_without_improv':500}\n",
        "\n",
        "#varbound=np.array([[0,10]]*3)  #when all variables have the same boundary\n",
        "\n",
        "varbound=np.array([[0.5,1.5],[1,100],[0,1]])\n",
        "vartype=np.array([['real'],['int'],['int']])\n",
        "\n",
        "varbound"
      ],
      "metadata": {
        "colab": {
          "base_uri": "https://localhost:8080/"
        },
        "id": "DZ_-OHT5q1GG",
        "outputId": "3bd6288d-1fb6-473d-fdc5-c8ce99d8c6c5"
      },
      "execution_count": 20,
      "outputs": [
        {
          "output_type": "execute_result",
          "data": {
            "text/plain": [
              "array([[  0.5,   1.5],\n",
              "       [  1. , 100. ],\n",
              "       [  0. ,   1. ]])"
            ]
          },
          "metadata": {},
          "execution_count": 20
        }
      ]
    },
    {
      "cell_type": "code",
      "source": [
        "from geneticalgorithm import geneticalgorithm as ga\n",
        "#call ga function to setup your paramater\n",
        "model=ga(function=objectivefunction,\n",
        "         dimension=3,\n",
        "         #variable_type='real',\n",
        "         variable_type_mixed= vartype,\n",
        "         variable_boundaries=varbound, \n",
        "         algorithm_parameters=param)"
      ],
      "metadata": {
        "id": "a_0Aq3LsrTuV"
      },
      "execution_count": 21,
      "outputs": []
    },
    {
      "cell_type": "code",
      "source": [
        "#run aglorithm\n",
        "model.run()"
      ],
      "metadata": {
        "colab": {
          "base_uri": "https://localhost:8080/",
          "height": 417
        },
        "id": "o6jRsrQMr-ID",
        "outputId": "6c031244-52a1-46ec-d04b-bf0147461b63"
      },
      "execution_count": 22,
      "outputs": [
        {
          "output_type": "stream",
          "name": "stdout",
          "text": [
            " The best solution found:\n",
            " [0.50023502 1.         1.        ]\n",
            "\n",
            " Objective function:\n",
            " -7.749764924615276\n"
          ]
        },
        {
          "output_type": "display_data",
          "data": {
            "image/png": "[encoded data removed]",
            "text/plain": [
              "<Figure size 432x288 with 1 Axes>"
            ]
          },
          "metadata": {
            "needs_background": "light"
          }
        },
        {
          "output_type": "stream",
          "name": "stdout",
          "text": [
            "\n",
            "Warning: GA is terminated due to the maximum number of iterations without improvement was met!"
          ]
        }
      ]
    }
  ]
}